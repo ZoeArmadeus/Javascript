{
 "cells": [
  {
   "cell_type": "code",
   "execution_count": 6,
   "metadata": {
    "dotnet_interactive": {
     "language": "javascript"
    },
    "polyglot_notebook": {
     "kernelName": "javascript"
    },
    "vscode": {
     "languageId": "polyglot-notebook"
    }
   },
   "outputs": [
    {
     "data": {
      "application/json": [
       "white",
       "black",
       "pink"
      ]
     },
     "metadata": {},
     "output_type": "display_data"
    },
    {
     "data": {
      "text/plain": [
       "white"
      ]
     },
     "metadata": {},
     "output_type": "display_data"
    },
    {
     "data": {
      "text/plain": [
       "black"
      ]
     },
     "metadata": {},
     "output_type": "display_data"
    },
    {
     "data": {
      "text/plain": [
       "pink"
      ]
     },
     "metadata": {},
     "output_type": "display_data"
    }
   ],
   "source": [
    "var colors;\n",
    "//建立array ->陣列\n",
    "colors = ['white', 'black', 'pink'];\n",
    "console.log(colors)\n",
    "\n",
    "console.log(colors[0])\n",
    "console.log(colors[1])\n",
    "console.log(colors[2])"
   ]
  },
  {
   "cell_type": "code",
   "execution_count": 8,
   "metadata": {
    "dotnet_interactive": {
     "language": "javascript"
    },
    "polyglot_notebook": {
     "kernelName": "javascript"
    },
    "vscode": {
     "languageId": "polyglot-notebook"
    }
   },
   "outputs": [
    {
     "data": {
      "text/plain": [
       "77"
      ]
     },
     "metadata": {},
     "output_type": "display_data"
    }
   ],
   "source": [
    "let subtotal = (13 + 1)*5;\n",
    "let shipping = 0.5 * (13 +1);\n",
    "\n",
    "let total = subtotal + shipping\n",
    "console.log(total)\n"
   ]
  },
  {
   "cell_type": "code",
   "execution_count": 9,
   "metadata": {
    "dotnet_interactive": {
     "language": "javascript"
    },
    "polyglot_notebook": {
     "kernelName": "javascript"
    },
    "vscode": {
     "languageId": "polyglot-notebook"
    }
   },
   "outputs": [
    {
     "ename": "Error",
     "evalue": "Module name \"請輸入您的姓名?\" has not been loaded yet for context: _. Use require([])\nhttps://requirejs.org/docs/errors.html#notloaded",
     "output_type": "error",
     "traceback": [
      "Module name \"請輸入您的姓名?\" has not been loaded yet for context: _. Use require([])\n",
      "https://requirejs.org/docs/errors.html#notloaded"
     ]
    }
   ],
   "source": [
    "//npm install prompt-sync 安裝提示字元執行\n",
    "const prompt = require(['prompt-sync'])({sigint: true});\n",
    "let name = prompt(\"請輸入您的姓名?\") //prompt提示文字\n",
    "console.log(\"您好:\" + name)\n",
    "\n"
   ]
  }
 ],
 "metadata": {
  "language_info": {
   "name": "csharp"
  },
  "orig_nbformat": 4
 },
 "nbformat": 4,
 "nbformat_minor": 2
}
